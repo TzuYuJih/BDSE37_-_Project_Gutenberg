{
 "cells": [
  {
   "cell_type": "code",
   "execution_count": null,
   "id": "7767e163",
   "metadata": {},
   "outputs": [],
   "source": [
    "from bs4 import BeautifulSoup as bs\n",
    "import requests as req\n",
    "from pprint import pprint\n",
    "import re\n",
    "import os"
   ]
  },
  {
   "cell_type": "code",
   "execution_count": null,
   "id": "f290da24",
   "metadata": {},
   "outputs": [],
   "source": [
    "# 這個URL是所有中文書的列表\n",
    "url = 'https://www.gutenberg.org/browse/languages/zh'\n",
    "\n",
    "# 建立一個list存放等等要用的東西\n",
    "list_posts=[]\n",
    "\n",
    "#不知道需不需要headers才能爬 總之試試看\n",
    "headers = {\n",
    "    \"User-Agent\": \"Mozilla/5.0 (Windows NT 10.0; Win64; x64) AppleWebKit/537.36 (KHTML, like Gecko) Chrome/115.0 Safari/537.36\"\n",
    "}\n",
    "\n",
    "res = req.get(url, headers=headers)\n",
    "soup = bs(res.text, 'lxml')"
   ]
  },
  {
   "cell_type": "code",
   "execution_count": null,
   "id": "a039043e",
   "metadata": {},
   "outputs": [],
   "source": [
    "list_posts.clear()\n",
    "seen_titles = set() # 創一個set記住已經看過的title，過濾完全一樣名子的書\n",
    "for a in soup.select('div.page_content li.pgdbetext a'):\n",
    "    title = a.get_text()\n",
    "    if title not in seen_titles: # 檢查title是否有在seen_title裡面\n",
    "        list_posts.append({ # 沒有就append\n",
    "            'title': title,\n",
    "            'link': 'https://www.gutenberg.org' + a['href'] + '.txt.utf-8'\n",
    "            })\n",
    "        seen_titles.add(title)\n",
    "seen_titles.clear()\n",
    "pprint(list_posts)"
   ]
  },
  {
   "cell_type": "code",
   "execution_count": null,
   "id": "31c264df",
   "metadata": {},
   "outputs": [],
   "source": [
    "for index, obj in enumerate(list_posts):\n",
    "\n",
    "    ### 由於我使用的網址是純文字網址，無法get element，直接用text就好!!!! ###\n",
    "    # res_ = req.get(obj['link']) # 從我們的list_posts這個dict中 取出link\n",
    "    # soup_ = bs(res_.text, 'lxml')# 把取出的link去做解讀~\n",
    "    # text_block = soup_.select_one('pre') # 抓<pre>\n",
    "    # if text_block:\n",
    "    #     raw_text = text_block.get_text() # 去html標籤\n",
    "    # else:\n",
    "    #     raw_text = ''\n",
    "     ### 由於我使用的網址是純文字網址，無法get element，直接用text就好!!!! ###\n",
    "\n",
    "    res_ = req.get(obj['link'])\n",
    "    raw_text = res_.text\n",
    "\n",
    "    chinese_text = ''.join(re.findall(r'[\\u4e00-\\u9fff\\，\\。\\？\\！\\「\\」\\《\\》\\；\\：\\『\\』]+', raw_text))\n",
    "    # 用正規表達式只抓中文!這邊比較土炮，手補全型符號\n",
    "    \n",
    "    #把抓到的文字新增到list_posts裡面 key='text'\n",
    "    obj['text']= chinese_text\n",
    "    print(f\"list_posts已新增{obj['title']}的內容\")\n",
    "\n",
    "    # 測試用\n",
    "    # if index == 2:\n",
    "    #     break\n",
    "\n",
    "pprint(list_posts)\n"
   ]
  },
  {
   "cell_type": "code",
   "execution_count": null,
   "id": "53463f39",
   "metadata": {},
   "outputs": [],
   "source": [
    "os.mkdir(\"project_gutenberg\")\n",
    "output_dir = \"project_gutenberg\"\n",
    "\n",
    "for item in list_posts:\n",
    "    if item['text'] != '': # 因為有三本書是純英文，經過只抓中文、全型符號的正規表達式之後會變成三本空白的txt，所以我們這邊過濾\n",
    "        title = item['title']\n",
    "        text = item.get('text','')\n",
    "        \n",
    "        # 避免檔名有非法字元！必須先清理title，因為有幾本書竟然是英文名子，含空白，害我白跑\n",
    "        safe_title = \"\".join(c for c in title if c.isalnum() or c in \" _-\")\n",
    "        # 定義file_path\n",
    "        file_path = os.path.join(\"project_gutenberg\", f\"{safe_title}.txt\")\n",
    "        # 建立檔案並寫入文字\n",
    "        with open(file_path, \"w\", encoding=\"utf-8\") as f:\n",
    "            f.write(text)"
   ]
  }
 ],
 "metadata": {
  "kernelspec": {
   "display_name": "web_scraping",
   "language": "python",
   "name": "python3"
  },
  "language_info": {
   "codemirror_mode": {
    "name": "ipython",
    "version": 3
   },
   "file_extension": ".py",
   "mimetype": "text/x-python",
   "name": "python",
   "nbconvert_exporter": "python",
   "pygments_lexer": "ipython3",
   "version": "3.11.11"
  }
 },
 "nbformat": 4,
 "nbformat_minor": 5
}
